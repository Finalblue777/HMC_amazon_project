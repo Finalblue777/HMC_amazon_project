{
 "cells": [
  {
   "cell_type": "markdown",
   "id": "6589ada5",
   "metadata": {},
   "source": [
    "# Explaining the Code\n",
    "\n",
    "\n",
    "1. Optimization Phase: For a given $\\tilde \\gamma$ we solve the problem, using some sort of optimization algorithm (IPOPT in our case),  \n",
    "\n",
    "\\begin{equation}\n",
    "      \\left\\{ \\int_0^\\infty \\exp(-\\delta t) \\left[-P^e  \\left (\\kappa\\sum_{i=1}^I Z^i_t- \\sum_{i=1}^I \\dot X^i_t \\right)+  P^a_t  \\sum_i \\theta^i Z^i_t-\\frac \\zeta 2 \\left (\\sum_i U_t^i + V_t^i \\right)^2 \\right ] dt\\right\\} \n",
    "\\end{equation}\n",
    "\n",
    "\\begin{equation} \\label{eq:z}\n",
    "\\dot Z_t^i = U_t^i - V_t^i . \n",
    "\\end{equation}\n",
    "\n",
    "\\begin{equation} \\label{eq:x}\n",
    "{\\dot X}_t^i  = - \\tilde \\gamma^i U^i_t - \\alpha \\left[ X_t^i - \\tilde \\gamma^i  \\left( {{\\bar z}^i - Z_t^i }  \\right) \\right] \n",
    "\\end{equation}\n",
    "\n",
    "$$\n",
    "X_0^i = \\tilde \\gamma^i * C\n",
    "$$\n",
    "\n",
    "    where $C$ is some constant. \n",
    "\n",
    "2. MC phase: The algorithm for this part is the standard Metropolis-Hastings Algorirthm. The only thing that is a bit troublesome to deal with is the formulation of our likelihood which is $g$. \n",
    "\n",
    "    1. We are given $\\gamma^*$ via the MHMC algorithm. \n",
    "    2. Use $U_t^i$ and $V_t^i$ to evaluate the objective function under $\\gamma^*$. \n",
    "    3. Form the Likelihood $g$\n",
    "\n",
    "\\begin{equation}\\label{min_solution}\n",
    "g^* = \\exp\\left[ - {\\frac 1 \\xi } \\left\\{ \\int_0^\\infty \\exp(-\\delta t) \\left[-P^e  \\left (\\kappa\\sum_{i=1}^I Z^i_t- \\sum_{i=1}^I \\dot X^i_t \\right)+  P^a_t  \\sum_i \\theta^i Z^i_t-\\frac \\zeta 2 \\left (\\sum_i U_t^i + V_t^i \\right)^2 \\right ] dt\\right\\} \\right]\n",
    "\\end{equation} \n",
    "    "
   ]
  },
  {
   "cell_type": "code",
   "execution_count": null,
   "id": "54a753ed",
   "metadata": {},
   "outputs": [],
   "source": [
    "#!/usr/bin/env python\n",
    "\n",
    "# Import Required Packages\n",
    "# ========================\n",
    "import os, sys\n",
    "import pickle\n",
    "import time\n",
    "\n",
    "import casadi\n",
    "import numpy as np\n",
    "import matplotlib.pyplot as plt\n",
    "\n",
    "# MCMC (HMC) sampling routines\n",
    "sys.path.append(os.path.abspath(\"mcmc\"))\n",
    "from mcmc_sampling import create_hmc_sampler\n",
    "\n",
    "import mcmc_with_casadi\n",
    "# import mcmc_with_gams\n",
    "\n",
    "# Local Debugging flag; remove when all tested\n",
    "_DEBUG = False "
   ]
  },
  {
   "cell_type": "markdown",
   "id": "15914811",
   "metadata": {},
   "source": [
    "## Start Running the test"
   ]
  },
  {
   "cell_type": "code",
   "execution_count": null,
   "id": "7a2566dd",
   "metadata": {
    "scrolled": true
   },
   "outputs": [],
   "source": [
    "# Call the main interface `main` with default settings\n",
    "casadi_results = mcmc_with_casadi.main()\n",
    "# gams_results = mcmc_with_gams.main()"
   ]
  },
  {
   "cell_type": "markdown",
   "id": "18c79f95",
   "metadata": {},
   "source": [
    "### Plot Results"
   ]
  },
  {
   "cell_type": "code",
   "execution_count": null,
   "id": "cc5016be",
   "metadata": {},
   "outputs": [],
   "source": [
    "# Plot Error Results\n",
    "plt.plot(results['error_tracker'])\n",
    "plt.xlabel(\"Iteration\")\n",
    "plt.ylabel(\"Error\")\n",
    "plt.show()"
   ]
  },
  {
   "cell_type": "code",
   "execution_count": null,
   "id": "516e0403",
   "metadata": {},
   "outputs": [],
   "source": [
    "# Plot Gamma Estimate Update\n",
    "for j in range(results['gamma_size']):\n",
    "    plt.plot(results['gamma_vals_tracker'][:, j], label=r\"$\\gamma_{%d}$\"%(j+1))\n",
    "plt.legend(bbox_to_anchor=(1.04, 0.5), ncol=2, loc=\"center left\", borderaxespad=0)\n",
    "plt.show()"
   ]
  },
  {
   "cell_type": "code",
   "execution_count": null,
   "id": "c4fbf2e2",
   "metadata": {},
   "outputs": [],
   "source": [
    "# Plot Histograms\n",
    "for itr in results['collected_ensembles'].keys():\n",
    "    for j in range(results['gamma_size']):\n",
    "        plt.hist(results['collected_ensembles'][itr][:, j], bins=100)\n",
    "        plt.title(f\"Iteration {itr+1}; Site {j+1}\")\n",
    "        plt.show()"
   ]
  },
  {
   "cell_type": "code",
   "execution_count": null,
   "id": "c2e7f5de",
   "metadata": {},
   "outputs": [],
   "source": [
    "# Plot Histogram of the final sample\n",
    "for j in range(results['gamma_size']):\n",
    "    plt.hist(results['final_sample'][:, j], bins=100)\n",
    "    plt.title(f\"Final Sample; Site {j+1}\")\n",
    "    plt.show()"
   ]
  },
  {
   "cell_type": "code",
   "execution_count": null,
   "id": "eec3be0c",
   "metadata": {},
   "outputs": [],
   "source": []
  }
 ],
 "metadata": {
  "kernelspec": {
   "display_name": "Python 3 (ipykernel)",
   "language": "python",
   "name": "python3"
  },
  "language_info": {
   "codemirror_mode": {
    "name": "ipython",
    "version": 3
   },
   "file_extension": ".py",
   "mimetype": "text/x-python",
   "name": "python",
   "nbconvert_exporter": "python",
   "pygments_lexer": "ipython3",
   "version": "3.10.8"
  }
 },
 "nbformat": 4,
 "nbformat_minor": 5
}
