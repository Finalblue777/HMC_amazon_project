{
 "cells": [
  {
   "cell_type": "markdown",
   "id": "6589ada5",
   "metadata": {},
   "source": [
    "# Explaining the Code\n",
    "\n",
    "\n",
    "1. Optimization Phase: For a given $\\tilde \\gamma$ we solve the problem, using some sort of optimization algorithm (IPOPT in our case),  \n",
    "\n",
    "\\begin{equation}\n",
    "      \\left\\{ \\int_0^\\infty \\exp(-\\delta t) \\left[-P^e  \\left (\\kappa\\sum_{i=1}^I Z^i_t- \\sum_{i=1}^I \\dot X^i_t \\right)+  P^a_t  \\sum_i \\theta^i Z^i_t-\\frac \\zeta 2 \\left (\\sum_i U_t^i + V_t^i \\right)^2 \\right ] dt\\right\\} \n",
    "\\end{equation}\n",
    "\n",
    "\\begin{equation} \\label{eq:z}\n",
    "\\dot Z_t^i = U_t^i - V_t^i . \n",
    "\\end{equation}\n",
    "\n",
    "\\begin{equation} \\label{eq:x}\n",
    "{\\dot X}_t^i  = - \\tilde \\gamma^i U^i_t - \\alpha \\left[ X_t^i - \\tilde \\gamma^i  \\left( {{\\bar z}^i - Z_t^i }  \\right) \\right] \n",
    "\\end{equation}\n",
    "\n",
    "$$\n",
    "X_0^i = \\tilde \\gamma^i * C\n",
    "$$\n",
    "\n",
    "    where $C$ is some constant. \n",
    "\n",
    "2. MC phase: The algorithm for this part is the standard Metropolis-Hastings Algorirthm. The only thing that is a bit troublesome to deal with is the formulation of our likelihood which is $g$. \n",
    "\n",
    "    1. We are given $\\gamma^*$ via the MHMC algorithm. \n",
    "    2. Use $U_t^i$ and $V_t^i$ to evaluate the objective function under $\\gamma^*$. \n",
    "    3. Form the Likelihood $g$\n",
    "\n",
    "\\begin{equation}\\label{min_solution}\n",
    "g^* = \\exp\\left[ - {\\frac 1 \\xi } \\left\\{ \\int_0^\\infty \\exp(-\\delta t) \\left[-P^e  \\left (\\kappa\\sum_{i=1}^I Z^i_t- \\sum_{i=1}^I \\dot X^i_t \\right)+  P^a_t  \\sum_i \\theta^i Z^i_t-\\frac \\zeta 2 \\left (\\sum_i U_t^i + V_t^i \\right)^2 \\right ] dt\\right\\} \\right]\n",
    "\\end{equation} \n",
    "    "
   ]
  },
  {
   "cell_type": "code",
   "execution_count": 1,
   "id": "54a753ed",
   "metadata": {},
   "outputs": [],
   "source": [
    "#!/usr/bin/env python\n",
    "\n",
    "# Import Required Packages\n",
    "# ========================\n",
    "import os, sys\n",
    "import pickle\n",
    "import time\n",
    "\n",
    "import casadi\n",
    "import numpy as np\n",
    "import matplotlib.pyplot as plt\n",
    "\n",
    "# MCMC (HMC) sampling routines\n",
    "sys.path.append(os.path.abspath(\"mcmc\"))\n",
    "from mcmc_sampling import create_hmc_sampler\n",
    "\n",
    "import mcmc_with_casadi\n",
    "import mcmc_with_gams\n",
    "\n"
   ]
  },
  {
   "cell_type": "markdown",
   "id": "15914811",
   "metadata": {},
   "source": [
    "## Start Running the test"
   ]
  },
  {
   "cell_type": "code",
   "execution_count": 2,
   "id": "7a2566dd",
   "metadata": {
    "scrolled": true
   },
   "outputs": [
    {
     "name": "stdout",
     "output_type": "stream",
     "text": [
      "Data successfully loaded from '/Users/samuelzhao/Documents/GitHub/HMC_amazon_project/data/calibration_25SitesModel.csv'\n",
      "amazon_25sites.gms\n",
      "Failed to evaluate the log-density using a randomly generated vector\n"
     ]
    },
    {
     "ename": "TypeError",
     "evalue": "",
     "output_type": "error",
     "traceback": [
      "\u001b[0;31m---------------------------------------------------------------------------\u001b[0m",
      "\u001b[0;31mValueError\u001b[0m                                Traceback (most recent call last)",
      "File \u001b[0;32m~/Documents/GitHub/HMC_amazon_project/mcmc/mcmc_sampling.py:586\u001b[0m, in \u001b[0;36mHMCSampler.validate_configurations\u001b[0;34m(self, configs, raise_for_invalid)\u001b[0m\n\u001b[1;32m    585\u001b[0m     test_vec \u001b[38;5;241m=\u001b[39m np\u001b[38;5;241m.\u001b[39mrandom\u001b[38;5;241m.\u001b[39mrandn(size)\n\u001b[0;32m--> 586\u001b[0m     \u001b[43mlog_density\u001b[49m\u001b[43m(\u001b[49m\u001b[43mtest_vec\u001b[49m\u001b[43m)\u001b[49m\n\u001b[1;32m    587\u001b[0m \u001b[38;5;28;01mexcept\u001b[39;00m:\n",
      "File \u001b[0;32m~/Documents/GitHub/HMC_amazon_project/mcmc_with_gams.py:264\u001b[0m, in \u001b[0;36mmain.<locals>.<lambda>\u001b[0;34m(uncertain_val)\u001b[0m\n\u001b[1;32m    262\u001b[0m \u001b[38;5;66;03m## Start Sampling\u001b[39;00m\n\u001b[1;32m    263\u001b[0m \u001b[38;5;66;03m# Update signature of log density evaluator\u001b[39;00m\n\u001b[0;32m--> 264\u001b[0m log_density \u001b[38;5;241m=\u001b[39m \u001b[38;5;28;01mlambda\u001b[39;00m uncertain_val: \u001b[43mlog_density_function\u001b[49m\u001b[43m(\u001b[49m\u001b[43muncertain_val\u001b[49m\u001b[38;5;241;43m=\u001b[39;49m\u001b[43muncertain_val\u001b[49m\u001b[43m,\u001b[49m\n\u001b[1;32m    265\u001b[0m \u001b[43m                                                     \u001b[49m\u001b[43muncertain_vals_mean\u001b[49m\u001b[38;5;241;43m=\u001b[39;49m\u001b[43muncertain_vals_mean\u001b[49m\u001b[43m,\u001b[49m\n\u001b[1;32m    266\u001b[0m \u001b[43m                                                     \u001b[49m\u001b[43mtheta_vals\u001b[49m\u001b[38;5;241;43m=\u001b[39;49m\u001b[43mtheta_vals\u001b[49m\u001b[43m,\u001b[49m\n\u001b[1;32m    267\u001b[0m \u001b[43m                                                     \u001b[49m\u001b[43msite_precisions\u001b[49m\u001b[38;5;241;43m=\u001b[39;49m\u001b[43msite_precisions\u001b[49m\u001b[43m,\u001b[49m\n\u001b[1;32m    268\u001b[0m \u001b[43m                                                     \u001b[49m\u001b[43malpha\u001b[49m\u001b[38;5;241;43m=\u001b[39;49m\u001b[43malpha\u001b[49m\u001b[43m,\u001b[49m\n\u001b[1;32m    269\u001b[0m \u001b[43m                                                     \u001b[49m\u001b[43mN\u001b[49m\u001b[38;5;241;43m=\u001b[39;49m\u001b[43mN\u001b[49m\u001b[43m,\u001b[49m\n\u001b[1;32m    270\u001b[0m \u001b[43m                                                     \u001b[49m\u001b[38;5;66;43;03m# sol=sol,\u001b[39;49;00m\n\u001b[1;32m    271\u001b[0m \u001b[43m                                                     \u001b[49m\u001b[43msol_val_X\u001b[49m\u001b[38;5;241;43m=\u001b[39;49m\u001b[43msol_val_X\u001b[49m\u001b[43m,\u001b[49m\n\u001b[1;32m    272\u001b[0m \u001b[43m                                                     \u001b[49m\u001b[43msol_val_Ua\u001b[49m\u001b[38;5;241;43m=\u001b[39;49m\u001b[43msol_val_Ua\u001b[49m\u001b[43m,\u001b[49m\n\u001b[1;32m    273\u001b[0m \u001b[43m                                                     \u001b[49m\u001b[43msol_val_Up\u001b[49m\u001b[38;5;241;43m=\u001b[39;49m\u001b[43msol_val_Up\u001b[49m\u001b[43m,\u001b[49m\n\u001b[1;32m    274\u001b[0m \u001b[43m                                                     \u001b[49m\u001b[43mzbar_2017\u001b[49m\u001b[38;5;241;43m=\u001b[39;49m\u001b[43mzbar_2017\u001b[49m\u001b[43m,\u001b[49m\n\u001b[1;32m    275\u001b[0m \u001b[43m                                                     \u001b[49m\u001b[43mforestArea_2017_ha\u001b[49m\u001b[38;5;241;43m=\u001b[39;49m\u001b[43mforestArea_2017_ha\u001b[49m\u001b[43m,\u001b[49m\n\u001b[1;32m    276\u001b[0m \u001b[43m                                                     \u001b[49m\u001b[43mnorm_fac\u001b[49m\u001b[38;5;241;43m=\u001b[39;49m\u001b[43mnorm_fac\u001b[49m\u001b[43m,\u001b[49m\n\u001b[1;32m    277\u001b[0m \u001b[43m                                                     \u001b[49m\u001b[43malpha_p_Adym\u001b[49m\u001b[38;5;241;43m=\u001b[39;49m\u001b[43malpha_p_Adym\u001b[49m\u001b[43m,\u001b[49m\n\u001b[1;32m    278\u001b[0m \u001b[43m                                                     \u001b[49m\u001b[43mBdym\u001b[49m\u001b[38;5;241;43m=\u001b[39;49m\u001b[43mBdym\u001b[49m\u001b[43m,\u001b[49m\n\u001b[1;32m    279\u001b[0m \u001b[43m                                                     \u001b[49m\u001b[43mleng\u001b[49m\u001b[38;5;241;43m=\u001b[39;49m\u001b[43mleng\u001b[49m\u001b[43m,\u001b[49m\n\u001b[1;32m    280\u001b[0m \u001b[43m                                                     \u001b[49m\u001b[43mT\u001b[49m\u001b[38;5;241;43m=\u001b[39;49m\u001b[43mT\u001b[49m\u001b[43m,\u001b[49m\n\u001b[1;32m    281\u001b[0m \u001b[43m                                                     \u001b[49m\u001b[43mds_vect\u001b[49m\u001b[38;5;241;43m=\u001b[39;49m\u001b[43mds_vect\u001b[49m\u001b[43m,\u001b[49m\n\u001b[1;32m    282\u001b[0m \u001b[43m                                                     \u001b[49m\u001b[43mzeta\u001b[49m\u001b[38;5;241;43m=\u001b[39;49m\u001b[43mzeta\u001b[49m\u001b[43m,\u001b[49m\n\u001b[1;32m    283\u001b[0m \u001b[43m                                                     \u001b[49m\u001b[43mxi\u001b[49m\u001b[38;5;241;43m=\u001b[39;49m\u001b[43mxi\u001b[49m\u001b[43m,\u001b[49m\n\u001b[1;32m    284\u001b[0m \u001b[43m                                                     \u001b[49m\u001b[43mkappa\u001b[49m\u001b[38;5;241;43m=\u001b[39;49m\u001b[43mkappa\u001b[49m\u001b[43m,\u001b[49m\n\u001b[1;32m    285\u001b[0m \u001b[43m                                                     \u001b[49m\u001b[43mpa\u001b[49m\u001b[38;5;241;43m=\u001b[39;49m\u001b[43mpa\u001b[49m\u001b[43m,\u001b[49m\n\u001b[1;32m    286\u001b[0m \u001b[43m                                                     \u001b[49m\u001b[43mpf\u001b[49m\u001b[38;5;241;43m=\u001b[39;49m\u001b[43mpf\u001b[49m\u001b[43m,\u001b[49m\n\u001b[1;32m    287\u001b[0m \u001b[43m                                                     \u001b[49m\u001b[43mtwo_param_uncertainty\u001b[49m\u001b[43m \u001b[49m\u001b[38;5;241;43m=\u001b[39;49m\u001b[43m  \u001b[49m\u001b[43mtwo_param_uncertainty\u001b[49m\n\u001b[1;32m    288\u001b[0m \u001b[43m                                                     \u001b[49m\u001b[43m)\u001b[49m\n\u001b[1;32m    290\u001b[0m \u001b[38;5;66;03m# Create MCMC sampler & sample, then calculate diagnostics\u001b[39;00m\n",
      "File \u001b[0;32m~/Documents/GitHub/HMC_amazon_project/mcmc_with_casadi.py:70\u001b[0m, in \u001b[0;36mlog_density_function\u001b[0;34m(uncertain_val, uncertain_vals_mean, theta_vals, N, site_precisions, alpha, sol_val_X, sol_val_Ua, sol_val_Up, zbar_2017, forestArea_2017_ha, norm_fac, alpha_p_Adym, Bdym, leng, T, ds_vect, zeta, xi, kappa, pa, pf, two_param_uncertainty)\u001b[0m\n\u001b[1;32m     69\u001b[0m     shifted_X[:, j]  \u001b[38;5;241m=\u001b[39m zbar_2017 \u001b[38;5;241m-\u001b[39m shifted_X[:, j]\n\u001b[0;32m---> 70\u001b[0m omega      \u001b[38;5;241m=\u001b[39m np\u001b[38;5;241m.\u001b[39mdot(uncertain_val, \u001b[43malpha\u001b[49m\u001b[43m \u001b[49m\u001b[38;5;241;43m*\u001b[39;49m\u001b[43m \u001b[49m\u001b[43mshifted_X\u001b[49m\u001b[43m \u001b[49m\u001b[38;5;241;43m-\u001b[39;49m\u001b[43m \u001b[49m\u001b[43msol_val_Up\u001b[49m)\n\u001b[1;32m     72\u001b[0m X_dym      \u001b[38;5;241m=\u001b[39m np\u001b[38;5;241m.\u001b[39mzeros(T\u001b[38;5;241m+\u001b[39m\u001b[38;5;241m1\u001b[39m)\n",
      "\u001b[0;31mValueError\u001b[0m: operands could not be broadcast together with shapes (25,200) (201,25) ",
      "\nDuring handling of the above exception, another exception occurred:\n",
      "\u001b[0;31mTypeError\u001b[0m                                 Traceback (most recent call last)",
      "Cell \u001b[0;32mIn[2], line 3\u001b[0m\n\u001b[1;32m      1\u001b[0m \u001b[38;5;66;03m# Call the main interface `main` with default settings\u001b[39;00m\n\u001b[1;32m      2\u001b[0m \u001b[38;5;66;03m# casadi_results = mcmc_with_casadi.main()\u001b[39;00m\n\u001b[0;32m----> 3\u001b[0m gams_results \u001b[38;5;241m=\u001b[39m \u001b[43mmcmc_with_gams\u001b[49m\u001b[38;5;241;43m.\u001b[39;49m\u001b[43mmain\u001b[49m\u001b[43m(\u001b[49m\u001b[43m)\u001b[49m\n",
      "File \u001b[0;32m~/Documents/GitHub/HMC_amazon_project/mcmc_with_gams.py:291\u001b[0m, in \u001b[0;36mmain\u001b[0;34m(site_num, norm_fac, delta_t, alpha, kappa, pf, pa, xi, zeta, max_iter, tol, T, N, sample_size, mode_as_solution, final_sample_size, two_param_uncertainty)\u001b[0m\n\u001b[1;32m    264\u001b[0m log_density \u001b[38;5;241m=\u001b[39m \u001b[38;5;28;01mlambda\u001b[39;00m uncertain_val: log_density_function(uncertain_val\u001b[38;5;241m=\u001b[39muncertain_val,\n\u001b[1;32m    265\u001b[0m                                                      uncertain_vals_mean\u001b[38;5;241m=\u001b[39muncertain_vals_mean,\n\u001b[1;32m    266\u001b[0m                                                      theta_vals\u001b[38;5;241m=\u001b[39mtheta_vals,\n\u001b[0;32m   (...)\u001b[0m\n\u001b[1;32m    287\u001b[0m                                                      two_param_uncertainty \u001b[38;5;241m=\u001b[39m  two_param_uncertainty\n\u001b[1;32m    288\u001b[0m                                                      )\n\u001b[1;32m    290\u001b[0m \u001b[38;5;66;03m# Create MCMC sampler & sample, then calculate diagnostics\u001b[39;00m\n\u001b[0;32m--> 291\u001b[0m sampler \u001b[38;5;241m=\u001b[39m \u001b[43mcreate_hmc_sampler\u001b[49m\u001b[43m(\u001b[49m\n\u001b[1;32m    292\u001b[0m \u001b[43m    \u001b[49m\u001b[43msize\u001b[49m\u001b[38;5;241;43m=\u001b[39;49m\u001b[43msize\u001b[49m\u001b[43m,\u001b[49m\n\u001b[1;32m    293\u001b[0m \u001b[43m    \u001b[49m\u001b[43mlog_density\u001b[49m\u001b[38;5;241;43m=\u001b[39;49m\u001b[43mlog_density\u001b[49m\u001b[43m,\u001b[49m\n\u001b[1;32m    294\u001b[0m \u001b[43m    \u001b[49m\u001b[38;5;66;43;03m#\u001b[39;49;00m\n\u001b[1;32m    295\u001b[0m \u001b[43m    \u001b[49m\u001b[43mburn_in\u001b[49m\u001b[38;5;241;43m=\u001b[39;49m\u001b[38;5;241;43m100\u001b[39;49m\u001b[43m,\u001b[49m\n\u001b[1;32m    296\u001b[0m \u001b[43m    \u001b[49m\u001b[43mmix_in\u001b[49m\u001b[38;5;241;43m=\u001b[39;49m\u001b[38;5;241;43m2\u001b[39;49m\u001b[43m,\u001b[49m\n\u001b[1;32m    297\u001b[0m \u001b[43m    \u001b[49m\u001b[43msymplectic_integrator\u001b[49m\u001b[38;5;241;43m=\u001b[39;49m\u001b[38;5;124;43m'\u001b[39;49m\u001b[38;5;124;43mverlet\u001b[39;49m\u001b[38;5;124;43m'\u001b[39;49m\u001b[43m,\u001b[49m\n\u001b[1;32m    298\u001b[0m \u001b[43m    \u001b[49m\u001b[43msymplectic_integrator_stepsize\u001b[49m\u001b[38;5;241;43m=\u001b[39;49m\u001b[38;5;241;43m1e-1\u001b[39;49m\u001b[43m,\u001b[49m\n\u001b[1;32m    299\u001b[0m \u001b[43m    \u001b[49m\u001b[43msymplectic_integrator_num_steps\u001b[49m\u001b[38;5;241;43m=\u001b[39;49m\u001b[38;5;241;43m3\u001b[39;49m\u001b[43m,\u001b[49m\n\u001b[1;32m    300\u001b[0m \u001b[43m    \u001b[49m\u001b[43mmass_matrix\u001b[49m\u001b[38;5;241;43m=\u001b[39;49m\u001b[38;5;241;43m1e+1\u001b[39;49m\u001b[43m,\u001b[49m\n\u001b[1;32m    301\u001b[0m \u001b[43m    \u001b[49m\u001b[43mconstraint_test\u001b[49m\u001b[38;5;241;43m=\u001b[39;49m\u001b[38;5;28;43;01mlambda\u001b[39;49;00m\u001b[43m \u001b[49m\u001b[43mx\u001b[49m\u001b[43m:\u001b[49m\u001b[43m \u001b[49m\u001b[38;5;28;43;01mTrue\u001b[39;49;00m\u001b[43m \u001b[49m\u001b[38;5;28;43;01mif\u001b[39;49;00m\u001b[43m \u001b[49m\u001b[43mnp\u001b[49m\u001b[38;5;241;43m.\u001b[39;49m\u001b[43mall\u001b[49m\u001b[43m(\u001b[49m\u001b[43mx\u001b[49m\u001b[38;5;241;43m>\u001b[39;49m\u001b[38;5;241;43m=\u001b[39;49m\u001b[38;5;241;43m0\u001b[39;49m\u001b[43m)\u001b[49m\u001b[43m \u001b[49m\u001b[38;5;28;43;01melse\u001b[39;49;00m\u001b[43m \u001b[49m\u001b[38;5;28;43;01mFalse\u001b[39;49;00m\u001b[43m,\u001b[49m\n\u001b[1;32m    302\u001b[0m \u001b[43m\u001b[49m\u001b[43m)\u001b[49m\n\u001b[1;32m    303\u001b[0m gamma_post_samples \u001b[38;5;241m=\u001b[39m sampler\u001b[38;5;241m.\u001b[39msample(\n\u001b[1;32m    304\u001b[0m     sample_size\u001b[38;5;241m=\u001b[39msample_size,\n\u001b[1;32m    305\u001b[0m     initial_state\u001b[38;5;241m=\u001b[39muncertain_vals,\n\u001b[1;32m    306\u001b[0m     verbose\u001b[38;5;241m=\u001b[39m\u001b[38;5;28;01mTrue\u001b[39;00m,\n\u001b[1;32m    307\u001b[0m )\n\u001b[1;32m    308\u001b[0m gamma_post_samples \u001b[38;5;241m=\u001b[39m np\u001b[38;5;241m.\u001b[39masarray(gamma_post_samples)\n",
      "File \u001b[0;32m~/Documents/GitHub/HMC_amazon_project/mcmc/mcmc_sampling.py:1218\u001b[0m, in \u001b[0;36mcreate_hmc_sampler\u001b[0;34m(size, log_density, log_density_grad, burn_in, mix_in, symplectic_integrator, symplectic_integrator_stepsize, symplectic_integrator_num_steps, mass_matrix, constraint_test)\u001b[0m\n\u001b[1;32m   1199\u001b[0m \u001b[38;5;124;03m\"\"\"\u001b[39;00m\n\u001b[1;32m   1200\u001b[0m \u001b[38;5;124;03mGiven the size of the target space, and a function to evalute log density,\u001b[39;00m\n\u001b[1;32m   1201\u001b[0m \u001b[38;5;124;03m    create and return an :py:class:`HMCSampler` instance/object to generate samples using HMC sampling approach.\u001b[39;00m\n\u001b[0;32m   (...)\u001b[0m\n\u001b[1;32m   1204\u001b[0m \u001b[38;5;124;03mThis function shows how to create :py:class:`HMCSampler` instances (with some or all configurations passed)\u001b[39;00m\n\u001b[1;32m   1205\u001b[0m \u001b[38;5;124;03m\"\"\"\u001b[39;00m\n\u001b[1;32m   1206\u001b[0m configs \u001b[38;5;241m=\u001b[39m \u001b[38;5;28mdict\u001b[39m(\n\u001b[1;32m   1207\u001b[0m     size\u001b[38;5;241m=\u001b[39msize,\n\u001b[1;32m   1208\u001b[0m     log_density\u001b[38;5;241m=\u001b[39mlog_density,\n\u001b[0;32m   (...)\u001b[0m\n\u001b[1;32m   1216\u001b[0m     constraint_test\u001b[38;5;241m=\u001b[39mconstraint_test,\n\u001b[1;32m   1217\u001b[0m )\n\u001b[0;32m-> 1218\u001b[0m \u001b[38;5;28;01mreturn\u001b[39;00m \u001b[43mHMCSampler\u001b[49m\u001b[43m(\u001b[49m\u001b[43mconfigs\u001b[49m\u001b[43m)\u001b[49m\n",
      "File \u001b[0;32m~/Documents/GitHub/HMC_amazon_project/mcmc/mcmc_sampling.py:207\u001b[0m, in \u001b[0;36mHMCSampler.__init__\u001b[0;34m(self, configs)\u001b[0m\n\u001b[1;32m    171\u001b[0m \u001b[38;5;124;03m\"\"\"\u001b[39;00m\n\u001b[1;32m    172\u001b[0m \u001b[38;5;124;03mImplementation of the HMC sampling algorithm\u001b[39;00m\n\u001b[1;32m    173\u001b[0m \u001b[38;5;124;03m    (with multiple choices of the symplectic integrator).\u001b[39;00m\n\u001b[0;32m   (...)\u001b[0m\n\u001b[1;32m    204\u001b[0m \u001b[38;5;124;03m    - References:\u001b[39;00m\n\u001b[1;32m    205\u001b[0m \u001b[38;5;124;03m\"\"\"\u001b[39;00m\n\u001b[1;32m    206\u001b[0m configs \u001b[38;5;241m=\u001b[39m \u001b[38;5;28mself\u001b[39m\u001b[38;5;241m.\u001b[39m_aggregate_configurations(configs, \u001b[38;5;28mself\u001b[39m\u001b[38;5;241m.\u001b[39m_DEF_CONFIGURATIONS)\n\u001b[0;32m--> 207\u001b[0m \u001b[38;5;28;43msuper\u001b[39;49m\u001b[43m(\u001b[49m\u001b[43m)\u001b[49m\u001b[38;5;241;43m.\u001b[39;49m\u001b[38;5;21;43m__init__\u001b[39;49m\u001b[43m(\u001b[49m\u001b[43mconfigs\u001b[49m\u001b[43m)\u001b[49m\n\u001b[1;32m    209\u001b[0m \u001b[38;5;66;03m# Define additional private parameters\u001b[39;00m\n\u001b[1;32m    210\u001b[0m \u001b[38;5;28mself\u001b[39m\u001b[38;5;241m.\u001b[39m_update_mass_matrix()\n",
      "File \u001b[0;32m~/Documents/GitHub/HMC_amazon_project/mcmc/mcmc_sampling.py:62\u001b[0m, in \u001b[0;36mSampler.__init__\u001b[0;34m(self, configs)\u001b[0m\n\u001b[1;32m     60\u001b[0m     \u001b[38;5;28;01mraise\u001b[39;00m \u001b[38;5;167;01mTypeError\u001b[39;00m\n\u001b[1;32m     61\u001b[0m \u001b[38;5;28;01melse\u001b[39;00m:\n\u001b[0;32m---> 62\u001b[0m     \u001b[38;5;28;01mif\u001b[39;00m \u001b[38;5;28;43mself\u001b[39;49m\u001b[38;5;241;43m.\u001b[39;49m\u001b[43mvalidate_configurations\u001b[49m\u001b[43m(\u001b[49m\u001b[43mconfigs\u001b[49m\u001b[43m)\u001b[49m:\n\u001b[1;32m     63\u001b[0m         \u001b[38;5;28mself\u001b[39m\u001b[38;5;241m.\u001b[39m_CONFIGURATIONS \u001b[38;5;241m=\u001b[39m configs\n\u001b[1;32m     64\u001b[0m     \u001b[38;5;28;01melse\u001b[39;00m:\n",
      "File \u001b[0;32m~/Documents/GitHub/HMC_amazon_project/mcmc/mcmc_sampling.py:590\u001b[0m, in \u001b[0;36mHMCSampler.validate_configurations\u001b[0;34m(self, configs, raise_for_invalid)\u001b[0m\n\u001b[1;32m    588\u001b[0m \u001b[38;5;28;01mif\u001b[39;00m raise_for_invalid:\n\u001b[1;32m    589\u001b[0m     \u001b[38;5;28mprint\u001b[39m(\u001b[38;5;124mf\u001b[39m\u001b[38;5;124m\"\u001b[39m\u001b[38;5;124mFailed to evaluate the log-density using a randomly generated vector\u001b[39m\u001b[38;5;124m\"\u001b[39m)\n\u001b[0;32m--> 590\u001b[0m     \u001b[38;5;28;01mraise\u001b[39;00m \u001b[38;5;167;01mTypeError\u001b[39;00m\n\u001b[1;32m    591\u001b[0m \u001b[38;5;28;01melse\u001b[39;00m:\n\u001b[1;32m    592\u001b[0m     is_valid \u001b[38;5;241m=\u001b[39m \u001b[38;5;28;01mFalse\u001b[39;00m\n",
      "\u001b[0;31mTypeError\u001b[0m: "
     ]
    }
   ],
   "source": [
    "# Call the main interface `main` with default settings\n",
    "# casadi_results = mcmc_with_casadi.main()\n",
    "gams_results = mcmc_with_gams.main()"
   ]
  },
  {
   "cell_type": "markdown",
   "id": "18c79f95",
   "metadata": {},
   "source": [
    "### Plot Results"
   ]
  },
  {
   "cell_type": "code",
   "execution_count": null,
   "id": "cc5016be",
   "metadata": {},
   "outputs": [],
   "source": [
    "# Plot Error Results\n",
    "plt.plot(casadi_results['error_tracker'])\n",
    "plt.xlabel(\"Iteration\")\n",
    "plt.ylabel(\"Error\")\n",
    "plt.show()"
   ]
  },
  {
   "cell_type": "code",
   "execution_count": null,
   "id": "516e0403",
   "metadata": {},
   "outputs": [],
   "source": [
    "# Plot Gamma Estimate Update\n",
    "for j in range(casadi_results['gamma_size']):\n",
    "    plt.plot(casadi_results['gamma_vals_tracker'][:, j], label=r\"$\\gamma_{%d}$\"%(j+1))\n",
    "plt.legend(bbox_to_anchor=(1.04, 0.5), ncol=2, loc=\"center left\", borderaxespad=0)\n",
    "plt.show()"
   ]
  },
  {
   "cell_type": "code",
   "execution_count": null,
   "id": "c4fbf2e2",
   "metadata": {},
   "outputs": [],
   "source": [
    "# Plot Histograms\n",
    "for itr in casadi_results['collected_ensembles'].keys():\n",
    "    for j in range(casadi_results['gamma_size']):\n",
    "        plt.hist(casadi_results['collected_ensembles'][itr][:, j], bins=100)\n",
    "        plt.title(f\"Iteration {itr+1}; Site {j+1}\")\n",
    "        plt.show()"
   ]
  },
  {
   "cell_type": "code",
   "execution_count": null,
   "id": "c2e7f5de",
   "metadata": {},
   "outputs": [],
   "source": [
    "# Plot Histogram of the final sample\n",
    "for j in range(casadi_results['gamma_size']):\n",
    "    plt.hist(casadi_results['final_sample'][:, j], bins=100)\n",
    "    plt.title(f\"Final Sample; Site {j+1}\")\n",
    "    plt.show()"
   ]
  },
  {
   "cell_type": "code",
   "execution_count": null,
   "id": "eec3be0c",
   "metadata": {},
   "outputs": [],
   "source": []
  }
 ],
 "metadata": {
  "kernelspec": {
   "display_name": "Python 3 (ipykernel)",
   "language": "python",
   "name": "python3"
  },
  "language_info": {
   "codemirror_mode": {
    "name": "ipython",
    "version": 3
   },
   "file_extension": ".py",
   "mimetype": "text/x-python",
   "name": "python",
   "nbconvert_exporter": "python",
   "pygments_lexer": "ipython3",
   "version": "3.10.9"
  }
 },
 "nbformat": 4,
 "nbformat_minor": 5
}
